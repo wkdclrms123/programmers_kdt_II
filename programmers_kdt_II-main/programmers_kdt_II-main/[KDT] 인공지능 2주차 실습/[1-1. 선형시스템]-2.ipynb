{
  "nbformat": 4,
  "nbformat_minor": 0,
  "metadata": {
    "colab": {
      "name": "[1-1. 선형시스템]-2",
      "provenance": [],
      "collapsed_sections": []
    },
    "kernelspec": {
      "name": "python3",
      "display_name": "Python 3"
    }
  },
  "cells": [
    {
      "cell_type": "markdown",
      "metadata": {
        "id": "Fn6NoDwPmhNs"
      },
      "source": [
        "# 인공지능 수학 - 선형대수 (NumPy 실습)\n",
        "## 행렬과 벡터의 코딩 및 연산"
      ]
    },
    {
      "cell_type": "code",
      "metadata": {
        "id": "kvcJK1GfTqxA"
      },
      "source": [
        "import numpy as np"
      ],
      "execution_count": null,
      "outputs": []
    },
    {
      "cell_type": "code",
      "metadata": {
        "id": "SqWHFBWsT3K7",
        "colab": {
          "base_uri": "https://localhost:8080/"
        },
        "outputId": "14340910-36bb-49f8-aa9f-b21317db6156"
      },
      "source": [
        "# 행렬 코딩\n",
        "A = np.array([[3, 1, 1], [1, -2, -1], [1, 1, 1]])\n",
        "\n",
        "print(A)\n",
        "print(np.shape(A))"
      ],
      "execution_count": null,
      "outputs": [
        {
          "output_type": "stream",
          "text": [
            "[[ 3  1  1]\n",
            " [ 1 -2 -1]\n",
            " [ 1  1  1]]\n",
            "(3, 3)\n"
          ],
          "name": "stdout"
        }
      ]
    },
    {
      "cell_type": "code",
      "metadata": {
        "colab": {
          "base_uri": "https://localhost:8080/"
        },
        "id": "YFVDrsxxh6gc",
        "outputId": "d210a227-4c4b-4d34-97e9-012349046822"
      },
      "source": [
        "# 벡터 코딩\n",
        "b = np.array([4, 1, 2])\n",
        "\n",
        "print(b)\n",
        "print(np.shape(b))"
      ],
      "execution_count": null,
      "outputs": [
        {
          "output_type": "stream",
          "text": [
            "[4 1 2]\n",
            "(3,)\n"
          ],
          "name": "stdout"
        }
      ]
    },
    {
      "cell_type": "code",
      "metadata": {
        "colab": {
          "base_uri": "https://localhost:8080/"
        },
        "id": "vE5nVm9uiAC_",
        "outputId": "54996a00-3e20-416b-ec66-b09664b30cc0"
      },
      "source": [
        "# 역행렬 구하기\n",
        "A_inv = np.linalg.inv(A)  \n",
        "\n",
        "print(A_inv)\n",
        "print(np.shape(A_inv))"
      ],
      "execution_count": null,
      "outputs": [
        {
          "output_type": "stream",
          "text": [
            "[[ 5.00000000e-01 -7.40148683e-17 -5.00000000e-01]\n",
            " [ 1.00000000e+00 -1.00000000e+00 -2.00000000e+00]\n",
            " [-1.50000000e+00  1.00000000e+00  3.50000000e+00]]\n",
            "(3, 3)\n"
          ],
          "name": "stdout"
        }
      ]
    },
    {
      "cell_type": "code",
      "metadata": {
        "colab": {
          "base_uri": "https://localhost:8080/"
        },
        "id": "BcrQWuJ3iaFr",
        "outputId": "efc84757-893c-4988-e533-a7aed872de93"
      },
      "source": [
        "# 역행렬을 이용한 선형시스템 Ax=b의 해 구하기\n",
        "# x = np.matmul(A_inv, b)\n",
        "x = A_inv @ b\n",
        "\n",
        "print(x)\n",
        "print(np.shape(x))"
      ],
      "execution_count": null,
      "outputs": [
        {
          "output_type": "stream",
          "text": [
            "[ 1. -1.  2.]\n",
            "(3,)\n"
          ],
          "name": "stdout"
        }
      ]
    },
    {
      "cell_type": "code",
      "metadata": {
        "colab": {
          "base_uri": "https://localhost:8080/"
        },
        "id": "fbHOxX5Ei1Bz",
        "outputId": "c99bf2a4-f89a-4776-a234-b9b732a04440"
      },
      "source": [
        "## 결과 검증\n",
        "# bb = np.matmul(A, x)\n",
        "bb = A @ x\n",
        "\n",
        "print(np.shape(bb))\n",
        "print(bb)\n",
        "\n",
        "if np.linalg.norm(b - bb) < 1e-3:\n",
        "  print(\"Ok\")\n",
        "else:\n",
        "  print(\"something wrong\")"
      ],
      "execution_count": null,
      "outputs": [
        {
          "output_type": "stream",
          "text": [
            "(3,)\n",
            "[4. 1. 2.]\n",
            "Ok\n"
          ],
          "name": "stdout"
        }
      ]
    }
  ]
}