{
  "nbformat": 4,
  "nbformat_minor": 0,
  "metadata": {
    "colab": {
      "name": "[1-8. SVD, PCA]-1",
      "provenance": [],
      "collapsed_sections": []
    },
    "kernelspec": {
      "name": "python3",
      "display_name": "Python 3"
    }
  },
  "cells": [
    {
      "cell_type": "markdown",
      "metadata": {
        "id": "avi-EXcIa6gS"
      },
      "source": [
        "# SVD"
      ]
    },
    {
      "cell_type": "code",
      "metadata": {
        "id": "dQa0lGJnbH9u"
      },
      "source": [
        "import numpy as np"
      ],
      "execution_count": null,
      "outputs": []
    },
    {
      "cell_type": "code",
      "metadata": {
        "id": "2SOcUB5Qa6Xw"
      },
      "source": [
        "A = np.array([[1, 1], [-2, 2], [-1, -1]])\n",
        "\n",
        "print(\"A:\")\n",
        "print(A)"
      ],
      "execution_count": null,
      "outputs": []
    },
    {
      "cell_type": "code",
      "metadata": {
        "id": "XfghmJpIa6UJ"
      },
      "source": [
        "U = np.array([[1/1.414, 0, 1/1.414], [0, 1, 0], [-1/1.414, 0, 1/1.414]])\n",
        "\n",
        "UU = U[:,:1]\n",
        "\n",
        "print(\"U:\")\n",
        "print(U)\n",
        "print(\"UU:\")\n",
        "print(UU)"
      ],
      "execution_count": null,
      "outputs": []
    },
    {
      "cell_type": "code",
      "metadata": {
        "id": "KNN45vGga6Q4"
      },
      "source": [
        "D = np.array([[4, 0], [0, 1/1.414], [0, 0]])\n",
        "\n",
        "DD = D[:1,:1]\n",
        "\n",
        "print(\"D\")\n",
        "print(D)\n",
        "\n",
        "print(\"DD\")\n",
        "print(DD)"
      ],
      "execution_count": null,
      "outputs": []
    },
    {
      "cell_type": "code",
      "metadata": {
        "id": "yCnrzLTMa6N-"
      },
      "source": [
        "Vt = np.array([[1/1.414, 1/1.414], [-1/1.414, 1/1.414]])\n",
        "\n",
        "VVt = Vt[:1,:]\n",
        "\n",
        "print(\"Vt\")\n",
        "print(Vt)\n",
        "\n",
        "print(\"VVt\")\n",
        "print(VVt)"
      ],
      "execution_count": null,
      "outputs": []
    },
    {
      "cell_type": "code",
      "metadata": {
        "id": "j3arPWcNa6LG"
      },
      "source": [
        "AA = U @ D @ Vt\n",
        "\n",
        "print(\"AA\")\n",
        "print(AA)"
      ],
      "execution_count": null,
      "outputs": []
    },
    {
      "cell_type": "code",
      "metadata": {
        "id": "MO8h6wSya6IG"
      },
      "source": [
        "UU @ DD @ VVt"
      ],
      "execution_count": null,
      "outputs": []
    },
    {
      "cell_type": "markdown",
      "metadata": {
        "id": "YuJNNAftauIV"
      },
      "source": [
        "# PCA"
      ]
    },
    {
      "cell_type": "code",
      "metadata": {
        "colab": {
          "base_uri": "https://localhost:8080/"
        },
        "id": "dMkS6DLfbRik",
        "outputId": "10cb534d-08b9-4611-93ac-34af63207f34"
      },
      "source": [
        "import numpy as np\n",
        "from sklearn.decomposition import PCA\n",
        "\n",
        "X = np.array([[-1, -1], [-2, -1], [-3, -2], [1, 1], [2, 1], [3, 2]])\n",
        "pca = PCA(n_components=2)\n",
        "pca.fit(X)\n"
      ],
      "execution_count": null,
      "outputs": [
        {
          "output_type": "execute_result",
          "data": {
            "text/plain": [
              "PCA(copy=True, iterated_power='auto', n_components=2, random_state=None,\n",
              "    svd_solver='auto', tol=0.0, whiten=False)"
            ]
          },
          "metadata": {
            "tags": []
          },
          "execution_count": 1
        }
      ]
    },
    {
      "cell_type": "code",
      "metadata": {
        "colab": {
          "base_uri": "https://localhost:8080/"
        },
        "id": "urQ_9bcZb0WO",
        "outputId": "50e52323-d40a-4836-a0b4-1ccb00d5d45d"
      },
      "source": [
        "print(pca.explained_variance_ratio_)\n"
      ],
      "execution_count": null,
      "outputs": [
        {
          "output_type": "stream",
          "text": [
            "[0.99244289 0.00755711]\n"
          ],
          "name": "stdout"
        }
      ]
    },
    {
      "cell_type": "code",
      "metadata": {
        "colab": {
          "base_uri": "https://localhost:8080/"
        },
        "id": "s2AbqvSKcBnl",
        "outputId": "72e59550-f93f-464f-c37b-0d2f598bc2f8"
      },
      "source": [
        "print(pca.singular_values_)"
      ],
      "execution_count": null,
      "outputs": [
        {
          "output_type": "stream",
          "text": [
            "[6.30061232 0.54980396]\n"
          ],
          "name": "stdout"
        }
      ]
    },
    {
      "cell_type": "code",
      "metadata": {
        "colab": {
          "base_uri": "https://localhost:8080/"
        },
        "id": "dSvdHJtvcEI1",
        "outputId": "2386806a-f1dc-41fa-d55c-67257175c4eb"
      },
      "source": [
        "print(pca.components_)\n"
      ],
      "execution_count": null,
      "outputs": [
        {
          "output_type": "stream",
          "text": [
            "[[-0.83849224 -0.54491354]\n",
            " [ 0.54491354 -0.83849224]]\n"
          ],
          "name": "stdout"
        }
      ]
    },
    {
      "cell_type": "code",
      "metadata": {
        "id": "2PAvKSbIdQE-"
      },
      "source": [
        ""
      ],
      "execution_count": null,
      "outputs": []
    }
  ]
}