{
  "nbformat": 4,
  "nbformat_minor": 0,
  "metadata": {
    "colab": {
      "name": "(KDT) 더미 데이터를 이용한 사용자 기반 추천 실습",
      "provenance": [],
      "collapsed_sections": [],
      "include_colab_link": true
    },
    "kernelspec": {
      "name": "python3",
      "display_name": "Python 3"
    }
  },
  "cells": [
    {
      "cell_type": "markdown",
      "metadata": {
        "id": "view-in-github",
        "colab_type": "text"
      },
      "source": [
        "<a href=\"https://colab.research.google.com/github/learn-programmers/programmers_kdt_II/blob/main/(KDT)_%EB%8D%94%EB%AF%B8_%EB%8D%B0%EC%9D%B4%ED%84%B0%EB%A5%BC_%EC%9D%B4%EC%9A%A9%ED%95%9C_%EC%82%AC%EC%9A%A9%EC%9E%90_%EA%B8%B0%EB%B0%98_%EC%B6%94%EC%B2%9C_%EC%8B%A4%EC%8A%B5.ipynb\" target=\"_parent\"><img src=\"https://colab.research.google.com/assets/colab-badge.svg\" alt=\"Open In Colab\"/></a>"
      ]
    },
    {
      "cell_type": "code",
      "metadata": {
        "id": "hNYMxHoxCIUj"
      },
      "source": [
        "import pandas as pd\n",
        "from sklearn.metrics.pairwise import cosine_similarity"
      ],
      "execution_count": null,
      "outputs": []
    },
    {
      "cell_type": "code",
      "metadata": {
        "id": "yMSjSA8QDLpA"
      },
      "source": [
        "dummy_rating = pd.read_csv(\"https://grepp-reco-test.s3.ap-northeast-2.amazonaws.com/dummy_rating.csv\", index_col=0)"
      ],
      "execution_count": null,
      "outputs": []
    },
    {
      "cell_type": "code",
      "metadata": {
        "id": "ND5mf6sVsoxs"
      },
      "source": [
        "dummy_rating.shape"
      ],
      "execution_count": null,
      "outputs": []
    },
    {
      "cell_type": "code",
      "metadata": {
        "id": "t4eKv_FrD0bz"
      },
      "source": [
        "dummy_rating.head()"
      ],
      "execution_count": null,
      "outputs": []
    },
    {
      "cell_type": "code",
      "metadata": {
        "id": "Arr4hz_iD4ip"
      },
      "source": [
        "dummy_rating.fillna(0, inplace=True)\n",
        "dummy_rating"
      ],
      "execution_count": null,
      "outputs": []
    },
    {
      "cell_type": "code",
      "metadata": {
        "id": "PDB6vSY3EDJN"
      },
      "source": [
        "# 평점 정보를 보정. 이후에 코사인 유사도를 사용하면 이는 피어슨 유사도에 해당\n",
        "def standardize(row):\n",
        "    new_row = (row - row.mean())/(row.max()-row.min())\n",
        "    return new_row\n",
        "\n",
        "dummy_rating_std = dummy_rating.apply(standardize)\n",
        "dummy_rating_std.head()"
      ],
      "execution_count": null,
      "outputs": []
    },
    {
      "cell_type": "code",
      "metadata": {
        "id": "H-mvAftFJLBF"
      },
      "source": [
        "# 정규화 없이 아이템간의 유사도 측정 행렬 만들기\n",
        "corrMatrix_wo_std = pd.DataFrame(cosine_similarity(dummy_rating), index=dummy_rating.index, columns=dummy_rating.index)\n",
        "corrMatrix_wo_std"
      ],
      "execution_count": null,
      "outputs": []
    },
    {
      "cell_type": "code",
      "metadata": {
        "id": "hhEsGTdpO5Gx"
      },
      "source": [
        "# 정규화 기반 아이템간의 유사도 측정 행렬 만들기\n",
        "corrMatrix = pd.DataFrame(cosine_similarity(dummy_rating_std), index=dummy_rating.index, columns=dummy_rating.index)\n",
        "corrMatrix"
      ],
      "execution_count": null,
      "outputs": []
    },
    {
      "cell_type": "code",
      "metadata": {
        "id": "MgS2PZ48Jn-H"
      },
      "source": [
        "def get_similar(userId):\n",
        "    similar_score = corrMatrix[userId]\n",
        "    # 앞서 보정된 값을 가지고 평점의 내림차순으로 정렬\n",
        "    similar_score = similar_score.sort_values(ascending=False)\n",
        "    return similar_score"
      ],
      "execution_count": null,
      "outputs": []
    },
    {
      "cell_type": "code",
      "metadata": {
        "id": "Cn00uRC3KABb"
      },
      "source": [
        "scifi_lover = \"user1\"\n",
        "\n",
        "similar_users = get_similar(scifi_lover)\n",
        "similar_users.head(10)"
      ],
      "execution_count": null,
      "outputs": []
    },
    {
      "cell_type": "code",
      "metadata": {
        "id": "Nt_OWrWgL9fk"
      },
      "source": [
        ""
      ],
      "execution_count": null,
      "outputs": []
    }
  ]
}