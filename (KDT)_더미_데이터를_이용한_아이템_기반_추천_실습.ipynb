{
  "nbformat": 4,
  "nbformat_minor": 0,
  "metadata": {
    "colab": {
      "name": "(KDT) 더미 데이터를 이용한 아이템 기반 추천 실습",
      "provenance": [],
      "include_colab_link": true
    },
    "kernelspec": {
      "name": "python3",
      "display_name": "Python 3"
    }
  },
  "cells": [
    {
      "cell_type": "markdown",
      "metadata": {
        "id": "view-in-github",
        "colab_type": "text"
      },
      "source": [
        "<a href=\"https://colab.research.google.com/github/learn-programmers/programmers_kdt_II/blob/main/(KDT)_%EB%8D%94%EB%AF%B8_%EB%8D%B0%EC%9D%B4%ED%84%B0%EB%A5%BC_%EC%9D%B4%EC%9A%A9%ED%95%9C_%EC%95%84%EC%9D%B4%ED%85%9C_%EA%B8%B0%EB%B0%98_%EC%B6%94%EC%B2%9C_%EC%8B%A4%EC%8A%B5.ipynb\" target=\"_parent\"><img src=\"https://colab.research.google.com/assets/colab-badge.svg\" alt=\"Open In Colab\"/></a>"
      ]
    },
    {
      "cell_type": "code",
      "metadata": {
        "id": "hNYMxHoxCIUj"
      },
      "source": [
        "import pandas as pd\n",
        "from sklearn.metrics.pairwise import cosine_similarity"
      ],
      "execution_count": null,
      "outputs": []
    },
    {
      "cell_type": "code",
      "metadata": {
        "id": "yMSjSA8QDLpA"
      },
      "source": [
        "dummy_rating = pd.read_csv(\"https://grepp-reco-test.s3.ap-northeast-2.amazonaws.com/dummy_rating.csv\", index_col=0)"
      ],
      "execution_count": null,
      "outputs": []
    },
    {
      "cell_type": "code",
      "metadata": {
        "colab": {
          "base_uri": "https://localhost:8080/",
          "height": 195
        },
        "id": "t4eKv_FrD0bz",
        "outputId": "9b150624-316e-4fab-dba3-bc31148bd7d5"
      },
      "source": [
        "dummy_rating.head()"
      ],
      "execution_count": null,
      "outputs": [
        {
          "output_type": "execute_result",
          "data": {
            "text/html": [
              "<div>\n",
              "<style scoped>\n",
              "    .dataframe tbody tr th:only-of-type {\n",
              "        vertical-align: middle;\n",
              "    }\n",
              "\n",
              "    .dataframe tbody tr th {\n",
              "        vertical-align: top;\n",
              "    }\n",
              "\n",
              "    .dataframe thead th {\n",
              "        text-align: right;\n",
              "    }\n",
              "</style>\n",
              "<table border=\"1\" class=\"dataframe\">\n",
              "  <thead>\n",
              "    <tr style=\"text-align: right;\">\n",
              "      <th></th>\n",
              "      <th>scifi1</th>\n",
              "      <th>scifi2</th>\n",
              "      <th>scifi3</th>\n",
              "      <th>comedy1</th>\n",
              "      <th>comedy2</th>\n",
              "      <th>comedy3</th>\n",
              "    </tr>\n",
              "  </thead>\n",
              "  <tbody>\n",
              "    <tr>\n",
              "      <th>user1</th>\n",
              "      <td>4.0</td>\n",
              "      <td>5.0</td>\n",
              "      <td>3.0</td>\n",
              "      <td>NaN</td>\n",
              "      <td>2.0</td>\n",
              "      <td>1.0</td>\n",
              "    </tr>\n",
              "    <tr>\n",
              "      <th>user2</th>\n",
              "      <td>5.0</td>\n",
              "      <td>3.0</td>\n",
              "      <td>3.0</td>\n",
              "      <td>2.0</td>\n",
              "      <td>2.0</td>\n",
              "      <td>NaN</td>\n",
              "    </tr>\n",
              "    <tr>\n",
              "      <th>user3</th>\n",
              "      <td>1.0</td>\n",
              "      <td>NaN</td>\n",
              "      <td>NaN</td>\n",
              "      <td>4.0</td>\n",
              "      <td>5.0</td>\n",
              "      <td>4.0</td>\n",
              "    </tr>\n",
              "    <tr>\n",
              "      <th>user4</th>\n",
              "      <td>NaN</td>\n",
              "      <td>2.0</td>\n",
              "      <td>1.0</td>\n",
              "      <td>4.0</td>\n",
              "      <td>NaN</td>\n",
              "      <td>3.0</td>\n",
              "    </tr>\n",
              "    <tr>\n",
              "      <th>user5</th>\n",
              "      <td>1.0</td>\n",
              "      <td>NaN</td>\n",
              "      <td>2.0</td>\n",
              "      <td>3.0</td>\n",
              "      <td>3.0</td>\n",
              "      <td>4.0</td>\n",
              "    </tr>\n",
              "  </tbody>\n",
              "</table>\n",
              "</div>"
            ],
            "text/plain": [
              "       scifi1  scifi2  scifi3  comedy1  comedy2  comedy3\n",
              "user1     4.0     5.0     3.0      NaN      2.0      1.0\n",
              "user2     5.0     3.0     3.0      2.0      2.0      NaN\n",
              "user3     1.0     NaN     NaN      4.0      5.0      4.0\n",
              "user4     NaN     2.0     1.0      4.0      NaN      3.0\n",
              "user5     1.0     NaN     2.0      3.0      3.0      4.0"
            ]
          },
          "metadata": {
            "tags": []
          },
          "execution_count": 3
        }
      ]
    },
    {
      "cell_type": "code",
      "metadata": {
        "id": "t7PSxLp2u3bS"
      },
      "source": [
        "dummy_rating = dummy_rating.T"
      ],
      "execution_count": null,
      "outputs": []
    },
    {
      "cell_type": "code",
      "metadata": {
        "colab": {
          "base_uri": "https://localhost:8080/",
          "height": 195
        },
        "id": "nizvonrDECi8",
        "outputId": "920b7d21-4a80-417f-ce2e-381c92b10bba"
      },
      "source": [
        "dummy_rating.head()"
      ],
      "execution_count": null,
      "outputs": [
        {
          "output_type": "execute_result",
          "data": {
            "text/html": [
              "<div>\n",
              "<style scoped>\n",
              "    .dataframe tbody tr th:only-of-type {\n",
              "        vertical-align: middle;\n",
              "    }\n",
              "\n",
              "    .dataframe tbody tr th {\n",
              "        vertical-align: top;\n",
              "    }\n",
              "\n",
              "    .dataframe thead th {\n",
              "        text-align: right;\n",
              "    }\n",
              "</style>\n",
              "<table border=\"1\" class=\"dataframe\">\n",
              "  <thead>\n",
              "    <tr style=\"text-align: right;\">\n",
              "      <th></th>\n",
              "      <th>user1</th>\n",
              "      <th>user2</th>\n",
              "      <th>user3</th>\n",
              "      <th>user4</th>\n",
              "      <th>user5</th>\n",
              "    </tr>\n",
              "  </thead>\n",
              "  <tbody>\n",
              "    <tr>\n",
              "      <th>scifi1</th>\n",
              "      <td>4.0</td>\n",
              "      <td>5.0</td>\n",
              "      <td>1.0</td>\n",
              "      <td>NaN</td>\n",
              "      <td>1.0</td>\n",
              "    </tr>\n",
              "    <tr>\n",
              "      <th>scifi2</th>\n",
              "      <td>5.0</td>\n",
              "      <td>3.0</td>\n",
              "      <td>NaN</td>\n",
              "      <td>2.0</td>\n",
              "      <td>NaN</td>\n",
              "    </tr>\n",
              "    <tr>\n",
              "      <th>scifi3</th>\n",
              "      <td>3.0</td>\n",
              "      <td>3.0</td>\n",
              "      <td>NaN</td>\n",
              "      <td>1.0</td>\n",
              "      <td>2.0</td>\n",
              "    </tr>\n",
              "    <tr>\n",
              "      <th>comedy1</th>\n",
              "      <td>NaN</td>\n",
              "      <td>2.0</td>\n",
              "      <td>4.0</td>\n",
              "      <td>4.0</td>\n",
              "      <td>3.0</td>\n",
              "    </tr>\n",
              "    <tr>\n",
              "      <th>comedy2</th>\n",
              "      <td>2.0</td>\n",
              "      <td>2.0</td>\n",
              "      <td>5.0</td>\n",
              "      <td>NaN</td>\n",
              "      <td>3.0</td>\n",
              "    </tr>\n",
              "  </tbody>\n",
              "</table>\n",
              "</div>"
            ],
            "text/plain": [
              "         user1  user2  user3  user4  user5\n",
              "scifi1     4.0    5.0    1.0    NaN    1.0\n",
              "scifi2     5.0    3.0    NaN    2.0    NaN\n",
              "scifi3     3.0    3.0    NaN    1.0    2.0\n",
              "comedy1    NaN    2.0    4.0    4.0    3.0\n",
              "comedy2    2.0    2.0    5.0    NaN    3.0"
            ]
          },
          "metadata": {
            "tags": []
          },
          "execution_count": 5
        }
      ]
    },
    {
      "cell_type": "code",
      "metadata": {
        "colab": {
          "base_uri": "https://localhost:8080/",
          "height": 225
        },
        "id": "Arr4hz_iD4ip",
        "outputId": "c83a2a78-1752-4534-b52a-a37736bfd016"
      },
      "source": [
        "dummy_rating.fillna(0, inplace=True)\n",
        "dummy_rating"
      ],
      "execution_count": null,
      "outputs": [
        {
          "output_type": "execute_result",
          "data": {
            "text/html": [
              "<div>\n",
              "<style scoped>\n",
              "    .dataframe tbody tr th:only-of-type {\n",
              "        vertical-align: middle;\n",
              "    }\n",
              "\n",
              "    .dataframe tbody tr th {\n",
              "        vertical-align: top;\n",
              "    }\n",
              "\n",
              "    .dataframe thead th {\n",
              "        text-align: right;\n",
              "    }\n",
              "</style>\n",
              "<table border=\"1\" class=\"dataframe\">\n",
              "  <thead>\n",
              "    <tr style=\"text-align: right;\">\n",
              "      <th></th>\n",
              "      <th>user1</th>\n",
              "      <th>user2</th>\n",
              "      <th>user3</th>\n",
              "      <th>user4</th>\n",
              "      <th>user5</th>\n",
              "    </tr>\n",
              "  </thead>\n",
              "  <tbody>\n",
              "    <tr>\n",
              "      <th>scifi1</th>\n",
              "      <td>4.0</td>\n",
              "      <td>5.0</td>\n",
              "      <td>1.0</td>\n",
              "      <td>0.0</td>\n",
              "      <td>1.0</td>\n",
              "    </tr>\n",
              "    <tr>\n",
              "      <th>scifi2</th>\n",
              "      <td>5.0</td>\n",
              "      <td>3.0</td>\n",
              "      <td>0.0</td>\n",
              "      <td>2.0</td>\n",
              "      <td>0.0</td>\n",
              "    </tr>\n",
              "    <tr>\n",
              "      <th>scifi3</th>\n",
              "      <td>3.0</td>\n",
              "      <td>3.0</td>\n",
              "      <td>0.0</td>\n",
              "      <td>1.0</td>\n",
              "      <td>2.0</td>\n",
              "    </tr>\n",
              "    <tr>\n",
              "      <th>comedy1</th>\n",
              "      <td>0.0</td>\n",
              "      <td>2.0</td>\n",
              "      <td>4.0</td>\n",
              "      <td>4.0</td>\n",
              "      <td>3.0</td>\n",
              "    </tr>\n",
              "    <tr>\n",
              "      <th>comedy2</th>\n",
              "      <td>2.0</td>\n",
              "      <td>2.0</td>\n",
              "      <td>5.0</td>\n",
              "      <td>0.0</td>\n",
              "      <td>3.0</td>\n",
              "    </tr>\n",
              "    <tr>\n",
              "      <th>comedy3</th>\n",
              "      <td>1.0</td>\n",
              "      <td>0.0</td>\n",
              "      <td>4.0</td>\n",
              "      <td>3.0</td>\n",
              "      <td>4.0</td>\n",
              "    </tr>\n",
              "  </tbody>\n",
              "</table>\n",
              "</div>"
            ],
            "text/plain": [
              "         user1  user2  user3  user4  user5\n",
              "scifi1     4.0    5.0    1.0    0.0    1.0\n",
              "scifi2     5.0    3.0    0.0    2.0    0.0\n",
              "scifi3     3.0    3.0    0.0    1.0    2.0\n",
              "comedy1    0.0    2.0    4.0    4.0    3.0\n",
              "comedy2    2.0    2.0    5.0    0.0    3.0\n",
              "comedy3    1.0    0.0    4.0    3.0    4.0"
            ]
          },
          "metadata": {
            "tags": []
          },
          "execution_count": 6
        }
      ]
    },
    {
      "cell_type": "code",
      "metadata": {
        "colab": {
          "base_uri": "https://localhost:8080/",
          "height": 195
        },
        "id": "PDB6vSY3EDJN",
        "outputId": "1aa199e2-1c87-428c-de06-7781d23c4987"
      },
      "source": [
        "# 평점 정보를 보정. 이후에 코사인 유사도를 사용하면 이는 피어슨 유사도에 해당\n",
        "def standardize(row):\n",
        "    new_row = (row - row.mean())/(row.max()-row.min())\n",
        "    return new_row\n",
        "\n",
        "# 행렬을 transpose해서 데이터 프레임을 생성\n",
        "dummy_rating_std = dummy_rating.apply(standardize)\n",
        "dummy_rating_std.head()"
      ],
      "execution_count": null,
      "outputs": [
        {
          "output_type": "execute_result",
          "data": {
            "text/html": [
              "<div>\n",
              "<style scoped>\n",
              "    .dataframe tbody tr th:only-of-type {\n",
              "        vertical-align: middle;\n",
              "    }\n",
              "\n",
              "    .dataframe tbody tr th {\n",
              "        vertical-align: top;\n",
              "    }\n",
              "\n",
              "    .dataframe thead th {\n",
              "        text-align: right;\n",
              "    }\n",
              "</style>\n",
              "<table border=\"1\" class=\"dataframe\">\n",
              "  <thead>\n",
              "    <tr style=\"text-align: right;\">\n",
              "      <th></th>\n",
              "      <th>user1</th>\n",
              "      <th>user2</th>\n",
              "      <th>user3</th>\n",
              "      <th>user4</th>\n",
              "      <th>user5</th>\n",
              "    </tr>\n",
              "  </thead>\n",
              "  <tbody>\n",
              "    <tr>\n",
              "      <th>scifi1</th>\n",
              "      <td>0.3</td>\n",
              "      <td>0.5</td>\n",
              "      <td>-0.266667</td>\n",
              "      <td>-0.416667</td>\n",
              "      <td>-0.291667</td>\n",
              "    </tr>\n",
              "    <tr>\n",
              "      <th>scifi2</th>\n",
              "      <td>0.5</td>\n",
              "      <td>0.1</td>\n",
              "      <td>-0.466667</td>\n",
              "      <td>0.083333</td>\n",
              "      <td>-0.541667</td>\n",
              "    </tr>\n",
              "    <tr>\n",
              "      <th>scifi3</th>\n",
              "      <td>0.1</td>\n",
              "      <td>0.1</td>\n",
              "      <td>-0.466667</td>\n",
              "      <td>-0.166667</td>\n",
              "      <td>-0.041667</td>\n",
              "    </tr>\n",
              "    <tr>\n",
              "      <th>comedy1</th>\n",
              "      <td>-0.5</td>\n",
              "      <td>-0.1</td>\n",
              "      <td>0.333333</td>\n",
              "      <td>0.583333</td>\n",
              "      <td>0.208333</td>\n",
              "    </tr>\n",
              "    <tr>\n",
              "      <th>comedy2</th>\n",
              "      <td>-0.1</td>\n",
              "      <td>-0.1</td>\n",
              "      <td>0.533333</td>\n",
              "      <td>-0.416667</td>\n",
              "      <td>0.208333</td>\n",
              "    </tr>\n",
              "  </tbody>\n",
              "</table>\n",
              "</div>"
            ],
            "text/plain": [
              "         user1  user2     user3     user4     user5\n",
              "scifi1     0.3    0.5 -0.266667 -0.416667 -0.291667\n",
              "scifi2     0.5    0.1 -0.466667  0.083333 -0.541667\n",
              "scifi3     0.1    0.1 -0.466667 -0.166667 -0.041667\n",
              "comedy1   -0.5   -0.1  0.333333  0.583333  0.208333\n",
              "comedy2   -0.1   -0.1  0.533333 -0.416667  0.208333"
            ]
          },
          "metadata": {
            "tags": []
          },
          "execution_count": 7
        }
      ]
    },
    {
      "cell_type": "code",
      "metadata": {
        "colab": {
          "base_uri": "https://localhost:8080/",
          "height": 225
        },
        "id": "H-mvAftFJLBF",
        "outputId": "29130069-8484-40ce-c9db-e7bde520b7df"
      },
      "source": [
        "# 아이템간의 유사도 측정 행렬 만들기\n",
        "corrMatrix = pd.DataFrame(cosine_similarity(dummy_rating_std),index=dummy_rating.index,columns=dummy_rating.index)\n",
        "corrMatrix"
      ],
      "execution_count": null,
      "outputs": [
        {
          "output_type": "execute_result",
          "data": {
            "text/html": [
              "<div>\n",
              "<style scoped>\n",
              "    .dataframe tbody tr th:only-of-type {\n",
              "        vertical-align: middle;\n",
              "    }\n",
              "\n",
              "    .dataframe tbody tr th {\n",
              "        vertical-align: top;\n",
              "    }\n",
              "\n",
              "    .dataframe thead th {\n",
              "        text-align: right;\n",
              "    }\n",
              "</style>\n",
              "<table border=\"1\" class=\"dataframe\">\n",
              "  <thead>\n",
              "    <tr style=\"text-align: right;\">\n",
              "      <th></th>\n",
              "      <th>scifi1</th>\n",
              "      <th>scifi2</th>\n",
              "      <th>scifi3</th>\n",
              "      <th>comedy1</th>\n",
              "      <th>comedy2</th>\n",
              "      <th>comedy3</th>\n",
              "    </tr>\n",
              "  </thead>\n",
              "  <tbody>\n",
              "    <tr>\n",
              "      <th>scifi1</th>\n",
              "      <td>1.000000</td>\n",
              "      <td>0.620156</td>\n",
              "      <td>0.676031</td>\n",
              "      <td>-0.833600</td>\n",
              "      <td>-0.185071</td>\n",
              "      <td>-0.975307</td>\n",
              "    </tr>\n",
              "    <tr>\n",
              "      <th>scifi2</th>\n",
              "      <td>0.620156</td>\n",
              "      <td>1.000000</td>\n",
              "      <td>0.628122</td>\n",
              "      <td>-0.626058</td>\n",
              "      <td>-0.716583</td>\n",
              "      <td>-0.743085</td>\n",
              "    </tr>\n",
              "    <tr>\n",
              "      <th>scifi3</th>\n",
              "      <td>0.676031</td>\n",
              "      <td>0.628122</td>\n",
              "      <td>1.000000</td>\n",
              "      <td>-0.715679</td>\n",
              "      <td>-0.557470</td>\n",
              "      <td>-0.682763</td>\n",
              "    </tr>\n",
              "    <tr>\n",
              "      <th>comedy1</th>\n",
              "      <td>-0.833600</td>\n",
              "      <td>-0.626058</td>\n",
              "      <td>-0.715679</td>\n",
              "      <td>1.000000</td>\n",
              "      <td>0.060770</td>\n",
              "      <td>0.787228</td>\n",
              "    </tr>\n",
              "    <tr>\n",
              "      <th>comedy2</th>\n",
              "      <td>-0.185071</td>\n",
              "      <td>-0.716583</td>\n",
              "      <td>-0.557470</td>\n",
              "      <td>0.060770</td>\n",
              "      <td>1.000000</td>\n",
              "      <td>0.337811</td>\n",
              "    </tr>\n",
              "    <tr>\n",
              "      <th>comedy3</th>\n",
              "      <td>-0.975307</td>\n",
              "      <td>-0.743085</td>\n",
              "      <td>-0.682763</td>\n",
              "      <td>0.787228</td>\n",
              "      <td>0.337811</td>\n",
              "      <td>1.000000</td>\n",
              "    </tr>\n",
              "  </tbody>\n",
              "</table>\n",
              "</div>"
            ],
            "text/plain": [
              "           scifi1    scifi2    scifi3   comedy1   comedy2   comedy3\n",
              "scifi1   1.000000  0.620156  0.676031 -0.833600 -0.185071 -0.975307\n",
              "scifi2   0.620156  1.000000  0.628122 -0.626058 -0.716583 -0.743085\n",
              "scifi3   0.676031  0.628122  1.000000 -0.715679 -0.557470 -0.682763\n",
              "comedy1 -0.833600 -0.626058 -0.715679  1.000000  0.060770  0.787228\n",
              "comedy2 -0.185071 -0.716583 -0.557470  0.060770  1.000000  0.337811\n",
              "comedy3 -0.975307 -0.743085 -0.682763  0.787228  0.337811  1.000000"
            ]
          },
          "metadata": {
            "tags": []
          },
          "execution_count": 8
        }
      ]
    },
    {
      "cell_type": "code",
      "metadata": {
        "id": "MgS2PZ48Jn-H"
      },
      "source": [
        "def get_similar(movie_name):\n",
        "    # 주어진 영화 이름에 해당하는 유사도 컬럼을 읽어서 평점 정보에 rating를 곱함\n",
        "    similar_score = corrMatrix[movie_name]\n",
        "    # 앞서 보정된 값을 가지고 평점의 내림차순으로 정렬\n",
        "    similar_score = similar_score.sort_values(ascending=False)\n",
        "    return similar_score"
      ],
      "execution_count": null,
      "outputs": []
    },
    {
      "cell_type": "code",
      "metadata": {
        "colab": {
          "base_uri": "https://localhost:8080/",
          "height": 225
        },
        "id": "Cn00uRC3KABb",
        "outputId": "8b588a9f-b64e-4604-b903-81067f28f5de"
      },
      "source": [
        "movie_i_liked = \"scifi1\"\n",
        "\n",
        "# 3개의 영화 평점을 가진 사용자를 기반으로 비슷한 아이템을 찾아보자\n",
        "similar_scores = pd.DataFrame(get_similar(movie_i_liked)) #, ignore_index=True)\n",
        "similar_scores"
      ],
      "execution_count": null,
      "outputs": [
        {
          "output_type": "execute_result",
          "data": {
            "text/html": [
              "<div>\n",
              "<style scoped>\n",
              "    .dataframe tbody tr th:only-of-type {\n",
              "        vertical-align: middle;\n",
              "    }\n",
              "\n",
              "    .dataframe tbody tr th {\n",
              "        vertical-align: top;\n",
              "    }\n",
              "\n",
              "    .dataframe thead th {\n",
              "        text-align: right;\n",
              "    }\n",
              "</style>\n",
              "<table border=\"1\" class=\"dataframe\">\n",
              "  <thead>\n",
              "    <tr style=\"text-align: right;\">\n",
              "      <th></th>\n",
              "      <th>scifi1</th>\n",
              "    </tr>\n",
              "  </thead>\n",
              "  <tbody>\n",
              "    <tr>\n",
              "      <th>scifi1</th>\n",
              "      <td>1.000000</td>\n",
              "    </tr>\n",
              "    <tr>\n",
              "      <th>scifi3</th>\n",
              "      <td>0.676031</td>\n",
              "    </tr>\n",
              "    <tr>\n",
              "      <th>scifi2</th>\n",
              "      <td>0.620156</td>\n",
              "    </tr>\n",
              "    <tr>\n",
              "      <th>comedy2</th>\n",
              "      <td>-0.185071</td>\n",
              "    </tr>\n",
              "    <tr>\n",
              "      <th>comedy1</th>\n",
              "      <td>-0.833600</td>\n",
              "    </tr>\n",
              "    <tr>\n",
              "      <th>comedy3</th>\n",
              "      <td>-0.975307</td>\n",
              "    </tr>\n",
              "  </tbody>\n",
              "</table>\n",
              "</div>"
            ],
            "text/plain": [
              "           scifi1\n",
              "scifi1   1.000000\n",
              "scifi3   0.676031\n",
              "scifi2   0.620156\n",
              "comedy2 -0.185071\n",
              "comedy1 -0.833600\n",
              "comedy3 -0.975307"
            ]
          },
          "metadata": {
            "tags": []
          },
          "execution_count": 10
        }
      ]
    },
    {
      "cell_type": "code",
      "metadata": {
        "id": "SSDjYy4uNQ7y"
      },
      "source": [
        ""
      ],
      "execution_count": null,
      "outputs": []
    }
  ]
}